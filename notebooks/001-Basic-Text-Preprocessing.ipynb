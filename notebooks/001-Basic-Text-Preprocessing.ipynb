{
 "cells": [
  {
   "cell_type": "code",
   "execution_count": 1,
   "metadata": {
    "slideshow": {
     "slide_type": "slide"
    }
   },
   "outputs": [],
   "source": [
    "%load_ext autoreload\n",
    "%autoreload 2"
   ]
  },
  {
   "cell_type": "code",
   "execution_count": 243,
   "metadata": {
    "slideshow": {
     "slide_type": "slide"
    }
   },
   "outputs": [],
   "source": [
    "import json\n",
    "from src.coordinator import Coordinator\n",
    "from src.utils.preprocessing import TextPreprocessor\n",
    "import pandas as pd"
   ]
  },
  {
   "cell_type": "code",
   "execution_count": 244,
   "metadata": {},
   "outputs": [],
   "source": [
    "coord = Coordinator()"
   ]
  },
  {
   "cell_type": "code",
   "execution_count": 245,
   "metadata": {},
   "outputs": [
    {
     "name": "stdout",
     "output_type": "stream",
     "text": [
      "KimKardashian 28394\n",
      "jtimberlake 3317\n",
      "britneyspears 5117\n",
      "jimmyfallon 11624\n",
      "shakira 5409\n",
      "rihanna 9623\n",
      "YouTube 17047\n",
      "taylorswift13 516\n",
      "Twitter 10694\n",
      "cnnbrk 52562\n",
      "ArianaGrande 43356\n",
      "Cristiano 3251\n",
      "TheEllenShow 21214\n",
      "BarackObama 7057\n",
      "narendramodi 23741\n",
      "ladygaga 7614\n",
      "justinbieber 19762\n",
      "selenagomez 4275\n",
      "realDonaldTrump 42281\n",
      "katyperry 10098\n",
      "TOTAL: 326952\n"
     ]
    }
   ],
   "source": [
    "dataset = pd.DataFrame()\n",
    "for file_path in coord.data_raw.iterdir():\n",
    "    if file_path.name.endswith('jsonl'):\n",
    "        user = file_path.stem\n",
    "        user_df = pd.read_json(file_path, lines=True)\n",
    "        dataset = dataset.append(user_df, ignore_index=True)\n",
    "        print(user, user_df.shape[0])\n",
    "print('TOTAL:', dataset.shape[0])"
   ]
  },
  {
   "cell_type": "code",
   "execution_count": 246,
   "metadata": {},
   "outputs": [
    {
     "data": {
      "text/html": [
       "<div>\n",
       "<style scoped>\n",
       "    .dataframe tbody tr th:only-of-type {\n",
       "        vertical-align: middle;\n",
       "    }\n",
       "\n",
       "    .dataframe tbody tr th {\n",
       "        vertical-align: top;\n",
       "    }\n",
       "\n",
       "    .dataframe thead th {\n",
       "        text-align: right;\n",
       "    }\n",
       "</style>\n",
       "<table border=\"1\" class=\"dataframe\">\n",
       "  <thead>\n",
       "    <tr style=\"text-align: right;\">\n",
       "      <th></th>\n",
       "      <th>tweet_id</th>\n",
       "      <th>user</th>\n",
       "      <th>time_epoch</th>\n",
       "      <th>tweet</th>\n",
       "      <th>n_likes</th>\n",
       "      <th>n_retweets</th>\n",
       "      <th>n_replies</th>\n",
       "      <th>n_emojis</th>\n",
       "      <th>quoted_tweet</th>\n",
       "      <th>hashtags</th>\n",
       "      <th>mentions</th>\n",
       "    </tr>\n",
       "  </thead>\n",
       "  <tbody>\n",
       "    <tr>\n",
       "      <th>0</th>\n",
       "      <td>1249884667572105216</td>\n",
       "      <td>KimKardashian</td>\n",
       "      <td>1586830701</td>\n",
       "      <td>https://twitter.com/ilivetodance/status/12498...</td>\n",
       "      <td>35811</td>\n",
       "      <td>5113</td>\n",
       "      <td>515</td>\n",
       "      <td>3</td>\n",
       "      <td>{'screen_name': 'iLivetoDance', 'name': 'Beat ...</td>\n",
       "      <td>[]</td>\n",
       "      <td>[]</td>\n",
       "    </tr>\n",
       "    <tr>\n",
       "      <th>1</th>\n",
       "      <td>1249733419401183232</td>\n",
       "      <td>KimKardashian</td>\n",
       "      <td>1586794640</td>\n",
       "      <td>JUST RESTOCKED: the @SKIMS Waist Trainer — ava...</td>\n",
       "      <td>3850</td>\n",
       "      <td>166</td>\n",
       "      <td>340</td>\n",
       "      <td>0</td>\n",
       "      <td>{'screen_name': None, 'name': None, 'text': ''...</td>\n",
       "      <td>[]</td>\n",
       "      <td>[skims]</td>\n",
       "    </tr>\n",
       "    <tr>\n",
       "      <th>2</th>\n",
       "      <td>1249436159371067393</td>\n",
       "      <td>KimKardashian</td>\n",
       "      <td>1586723768</td>\n",
       "      <td>Happy Easter pic.twitter.com/CGracu9q6R</td>\n",
       "      <td>28243</td>\n",
       "      <td>791</td>\n",
       "      <td>398</td>\n",
       "      <td>0</td>\n",
       "      <td>{'screen_name': None, 'name': None, 'text': ''...</td>\n",
       "      <td>[]</td>\n",
       "      <td>[]</td>\n",
       "    </tr>\n",
       "  </tbody>\n",
       "</table>\n",
       "</div>"
      ],
      "text/plain": [
       "              tweet_id           user  time_epoch  \\\n",
       "0  1249884667572105216  KimKardashian  1586830701   \n",
       "1  1249733419401183232  KimKardashian  1586794640   \n",
       "2  1249436159371067393  KimKardashian  1586723768   \n",
       "\n",
       "                                               tweet  n_likes  n_retweets  \\\n",
       "0   https://twitter.com/ilivetodance/status/12498...    35811        5113   \n",
       "1  JUST RESTOCKED: the @SKIMS Waist Trainer — ava...     3850         166   \n",
       "2            Happy Easter pic.twitter.com/CGracu9q6R    28243         791   \n",
       "\n",
       "   n_replies  n_emojis                                       quoted_tweet  \\\n",
       "0        515         3  {'screen_name': 'iLivetoDance', 'name': 'Beat ...   \n",
       "1        340         0  {'screen_name': None, 'name': None, 'text': ''...   \n",
       "2        398         0  {'screen_name': None, 'name': None, 'text': ''...   \n",
       "\n",
       "  hashtags mentions  \n",
       "0       []       []  \n",
       "1       []  [skims]  \n",
       "2       []       []  "
      ]
     },
     "execution_count": 246,
     "metadata": {},
     "output_type": "execute_result"
    }
   ],
   "source": [
    "dataset.head(3)"
   ]
  },
  {
   "cell_type": "code",
   "execution_count": 247,
   "metadata": {},
   "outputs": [],
   "source": [
    "dataset['quoted_tweet_screen_name'] = dataset['quoted_tweet'].apply(lambda tweet: tweet['screen_name'])\n",
    "dataset['quoted_tweet_name'] = dataset['quoted_tweet'].apply(lambda tweet: tweet['name'])\n",
    "dataset['quoted_tweet_hashtags'] = dataset['quoted_tweet'].apply(lambda tweet: tweet['hashtags'])\n",
    "dataset['quoted_tweet_mentions'] = dataset['quoted_tweet'].apply(lambda tweet: tweet['mentions'])\n",
    "dataset['quoted_tweet_n_emojis'] = dataset['quoted_tweet'].apply(lambda tweet: tweet['n_emojis'])\n",
    "dataset['quoted_tweet'] = dataset['quoted_tweet'].apply(lambda tweet: tweet['text'])"
   ]
  },
  {
   "cell_type": "code",
   "execution_count": 248,
   "metadata": {},
   "outputs": [
    {
     "data": {
      "text/html": [
       "<div>\n",
       "<style scoped>\n",
       "    .dataframe tbody tr th:only-of-type {\n",
       "        vertical-align: middle;\n",
       "    }\n",
       "\n",
       "    .dataframe tbody tr th {\n",
       "        vertical-align: top;\n",
       "    }\n",
       "\n",
       "    .dataframe thead th {\n",
       "        text-align: right;\n",
       "    }\n",
       "</style>\n",
       "<table border=\"1\" class=\"dataframe\">\n",
       "  <thead>\n",
       "    <tr style=\"text-align: right;\">\n",
       "      <th></th>\n",
       "      <th>tweet_id</th>\n",
       "      <th>user</th>\n",
       "      <th>time_epoch</th>\n",
       "      <th>tweet</th>\n",
       "      <th>n_likes</th>\n",
       "      <th>n_retweets</th>\n",
       "      <th>n_replies</th>\n",
       "      <th>n_emojis</th>\n",
       "      <th>quoted_tweet</th>\n",
       "      <th>hashtags</th>\n",
       "      <th>mentions</th>\n",
       "      <th>quoted_tweet_screen_name</th>\n",
       "      <th>quoted_tweet_name</th>\n",
       "      <th>quoted_tweet_hashtags</th>\n",
       "      <th>quoted_tweet_mentions</th>\n",
       "      <th>quoted_tweet_n_emojis</th>\n",
       "    </tr>\n",
       "  </thead>\n",
       "  <tbody>\n",
       "    <tr>\n",
       "      <th>0</th>\n",
       "      <td>1249884667572105216</td>\n",
       "      <td>KimKardashian</td>\n",
       "      <td>1586830701</td>\n",
       "      <td>https://twitter.com/ilivetodance/status/12498...</td>\n",
       "      <td>35811</td>\n",
       "      <td>5113</td>\n",
       "      <td>515</td>\n",
       "      <td>3</td>\n",
       "      <td>@kourtneykardash VS. @KimKardashian \\n\\n@khloe...</td>\n",
       "      <td>[]</td>\n",
       "      <td>[]</td>\n",
       "      <td>iLivetoDance</td>\n",
       "      <td>Beat Killa</td>\n",
       "      <td>[RRRemakes, Kuwtk, DontEVER, WhatOnEarth, True...</td>\n",
       "      <td>[kourtneykardash, KimKardashian, khloekardashi...</td>\n",
       "      <td>3</td>\n",
       "    </tr>\n",
       "    <tr>\n",
       "      <th>1</th>\n",
       "      <td>1249733419401183232</td>\n",
       "      <td>KimKardashian</td>\n",
       "      <td>1586794640</td>\n",
       "      <td>JUST RESTOCKED: the @SKIMS Waist Trainer — ava...</td>\n",
       "      <td>3850</td>\n",
       "      <td>166</td>\n",
       "      <td>340</td>\n",
       "      <td>0</td>\n",
       "      <td></td>\n",
       "      <td>[]</td>\n",
       "      <td>[skims]</td>\n",
       "      <td>None</td>\n",
       "      <td>None</td>\n",
       "      <td>[]</td>\n",
       "      <td>[]</td>\n",
       "      <td>0</td>\n",
       "    </tr>\n",
       "    <tr>\n",
       "      <th>2</th>\n",
       "      <td>1249436159371067393</td>\n",
       "      <td>KimKardashian</td>\n",
       "      <td>1586723768</td>\n",
       "      <td>Happy Easter pic.twitter.com/CGracu9q6R</td>\n",
       "      <td>28243</td>\n",
       "      <td>791</td>\n",
       "      <td>398</td>\n",
       "      <td>0</td>\n",
       "      <td></td>\n",
       "      <td>[]</td>\n",
       "      <td>[]</td>\n",
       "      <td>None</td>\n",
       "      <td>None</td>\n",
       "      <td>[]</td>\n",
       "      <td>[]</td>\n",
       "      <td>0</td>\n",
       "    </tr>\n",
       "  </tbody>\n",
       "</table>\n",
       "</div>"
      ],
      "text/plain": [
       "              tweet_id           user  time_epoch  \\\n",
       "0  1249884667572105216  KimKardashian  1586830701   \n",
       "1  1249733419401183232  KimKardashian  1586794640   \n",
       "2  1249436159371067393  KimKardashian  1586723768   \n",
       "\n",
       "                                               tweet  n_likes  n_retweets  \\\n",
       "0   https://twitter.com/ilivetodance/status/12498...    35811        5113   \n",
       "1  JUST RESTOCKED: the @SKIMS Waist Trainer — ava...     3850         166   \n",
       "2            Happy Easter pic.twitter.com/CGracu9q6R    28243         791   \n",
       "\n",
       "   n_replies  n_emojis                                       quoted_tweet  \\\n",
       "0        515         3  @kourtneykardash VS. @KimKardashian \\n\\n@khloe...   \n",
       "1        340         0                                                      \n",
       "2        398         0                                                      \n",
       "\n",
       "  hashtags mentions quoted_tweet_screen_name quoted_tweet_name  \\\n",
       "0       []       []             iLivetoDance        Beat Killa   \n",
       "1       []  [skims]                     None              None   \n",
       "2       []       []                     None              None   \n",
       "\n",
       "                               quoted_tweet_hashtags  \\\n",
       "0  [RRRemakes, Kuwtk, DontEVER, WhatOnEarth, True...   \n",
       "1                                                 []   \n",
       "2                                                 []   \n",
       "\n",
       "                               quoted_tweet_mentions  quoted_tweet_n_emojis  \n",
       "0  [kourtneykardash, KimKardashian, khloekardashi...                      3  \n",
       "1                                                 []                      0  \n",
       "2                                                 []                      0  "
      ]
     },
     "execution_count": 248,
     "metadata": {},
     "output_type": "execute_result"
    }
   ],
   "source": [
    "dataset.head(3)"
   ]
  },
  {
   "cell_type": "code",
   "execution_count": 249,
   "metadata": {},
   "outputs": [
    {
     "name": "stdout",
     "output_type": "stream",
     "text": [
      "<class 'pandas.core.frame.DataFrame'>\n",
      "RangeIndex: 326952 entries, 0 to 326951\n",
      "Data columns (total 16 columns):\n",
      " #   Column                    Non-Null Count   Dtype \n",
      "---  ------                    --------------   ----- \n",
      " 0   tweet_id                  326952 non-null  int64 \n",
      " 1   user                      326952 non-null  object\n",
      " 2   time_epoch                326952 non-null  int64 \n",
      " 3   tweet                     326952 non-null  object\n",
      " 4   n_likes                   326952 non-null  int64 \n",
      " 5   n_retweets                326952 non-null  int64 \n",
      " 6   n_replies                 326952 non-null  int64 \n",
      " 7   n_emojis                  326952 non-null  int64 \n",
      " 8   quoted_tweet              326952 non-null  object\n",
      " 9   hashtags                  326952 non-null  object\n",
      " 10  mentions                  326952 non-null  object\n",
      " 11  quoted_tweet_screen_name  10457 non-null   object\n",
      " 12  quoted_tweet_name         10412 non-null   object\n",
      " 13  quoted_tweet_hashtags     326952 non-null  object\n",
      " 14  quoted_tweet_mentions     326952 non-null  object\n",
      " 15  quoted_tweet_n_emojis     326952 non-null  int64 \n",
      "dtypes: int64(7), object(9)\n",
      "memory usage: 39.9+ MB\n"
     ]
    }
   ],
   "source": [
    "dataset.info()"
   ]
  },
  {
   "cell_type": "markdown",
   "metadata": {},
   "source": [
    "## 1. Remove all links and pictures in a tweet"
   ]
  },
  {
   "cell_type": "code",
   "execution_count": 250,
   "metadata": {},
   "outputs": [],
   "source": [
    "preprocessor = TextPreprocessor()"
   ]
  },
  {
   "cell_type": "code",
   "execution_count": 253,
   "metadata": {},
   "outputs": [
    {
     "data": {
      "text/plain": [
       "0    186504\n",
       "1    138424\n",
       "2      1901\n",
       "3       106\n",
       "4        14\n",
       "5         3\n",
       "Name: tweet, dtype: int64"
      ]
     },
     "execution_count": 253,
     "metadata": {},
     "output_type": "execute_result"
    }
   ],
   "source": [
    "dataset['tweet'].apply(lambda tweet: len(preprocessor.url_rgx.findall(tweet))).value_counts()"
   ]
  },
  {
   "cell_type": "code",
   "execution_count": 254,
   "metadata": {},
   "outputs": [
    {
     "data": {
      "text/plain": [
       "0    263902\n",
       "1     63045\n",
       "2         5\n",
       "Name: tweet, dtype: int64"
      ]
     },
     "execution_count": 254,
     "metadata": {},
     "output_type": "execute_result"
    }
   ],
   "source": [
    "dataset['tweet'].apply(lambda tweet: len(preprocessor.pic_rgx.findall(tweet))).value_counts()"
   ]
  },
  {
   "cell_type": "code",
   "execution_count": 255,
   "metadata": {},
   "outputs": [
    {
     "data": {
      "text/plain": [
       "0    324446\n",
       "1      2450\n",
       "2        53\n",
       "5         2\n",
       "3         1\n",
       "Name: quoted_tweet, dtype: int64"
      ]
     },
     "execution_count": 255,
     "metadata": {},
     "output_type": "execute_result"
    }
   ],
   "source": [
    "dataset['quoted_tweet'].apply(lambda tweet: len(preprocessor.url_rgx.findall(tweet))).value_counts()"
   ]
  },
  {
   "cell_type": "code",
   "execution_count": 256,
   "metadata": {},
   "outputs": [
    {
     "data": {
      "text/plain": [
       "0    322464\n",
       "1      4487\n",
       "2         1\n",
       "Name: quoted_tweet, dtype: int64"
      ]
     },
     "execution_count": 256,
     "metadata": {},
     "output_type": "execute_result"
    }
   ],
   "source": [
    "dataset['quoted_tweet'].apply(lambda tweet: len(preprocessor.pic_rgx.findall(tweet))).value_counts()"
   ]
  },
  {
   "cell_type": "markdown",
   "metadata": {},
   "source": [
    "**Drop links from tweet**"
   ]
  },
  {
   "cell_type": "code",
   "execution_count": 257,
   "metadata": {},
   "outputs": [
    {
     "data": {
      "text/plain": [
       "(0    326952\n",
       " Name: tweet, dtype: int64,\n",
       " 0    326952\n",
       " Name: tweet, dtype: int64)"
      ]
     },
     "execution_count": 257,
     "metadata": {},
     "output_type": "execute_result"
    }
   ],
   "source": [
    "dataset['tweet'] = dataset['tweet'].apply(lambda tweet: preprocessor.clean_links(tweet))\n",
    "dataset['tweet'].apply(lambda tweet: len(preprocessor.pic_rgx.findall(tweet))).value_counts(), \\\n",
    "dataset['tweet'].apply(lambda tweet: len(preprocessor.url_rgx.findall(tweet))).value_counts()"
   ]
  },
  {
   "cell_type": "markdown",
   "metadata": {},
   "source": [
    "**Drop links from quoted tweets**"
   ]
  },
  {
   "cell_type": "code",
   "execution_count": 258,
   "metadata": {},
   "outputs": [
    {
     "data": {
      "text/plain": [
       "(0    326952\n",
       " Name: quoted_tweet, dtype: int64,\n",
       " 0    326952\n",
       " Name: quoted_tweet, dtype: int64)"
      ]
     },
     "execution_count": 258,
     "metadata": {},
     "output_type": "execute_result"
    }
   ],
   "source": [
    "dataset['quoted_tweet'] = dataset['quoted_tweet'].apply(lambda tweet: preprocessor.clean_links(tweet))\n",
    "dataset['quoted_tweet'].apply(lambda tweet: len(preprocessor.pic_rgx.findall(tweet))).value_counts(), \\\n",
    "dataset['quoted_tweet'].apply(lambda tweet: len(preprocessor.url_rgx.findall(tweet))).value_counts()"
   ]
  },
  {
   "cell_type": "markdown",
   "metadata": {},
   "source": [
    "## 2. Drop tweets with less than 50 characters"
   ]
  },
  {
   "cell_type": "markdown",
   "metadata": {},
   "source": [
    "**Number of tweets with less than 50 characters and more than 50 characters respectively**"
   ]
  },
  {
   "cell_type": "code",
   "execution_count": 259,
   "metadata": {},
   "outputs": [
    {
     "data": {
      "text/plain": [
       "102697"
      ]
     },
     "execution_count": 259,
     "metadata": {},
     "output_type": "execute_result"
    }
   ],
   "source": [
    "dataset[dataset['tweet'].apply(lambda tweet: sum(len(token) for token in tweet.split()) < 50)].shape[0]"
   ]
  },
  {
   "cell_type": "code",
   "execution_count": 260,
   "metadata": {},
   "outputs": [
    {
     "data": {
      "text/plain": [
       "224255"
      ]
     },
     "execution_count": 260,
     "metadata": {},
     "output_type": "execute_result"
    }
   ],
   "source": [
    "dataset = dataset[dataset['tweet'].apply(lambda tweet: sum(len(token) for token in tweet.split()) >= 50)]\n",
    "dataset.shape[0]"
   ]
  },
  {
   "cell_type": "code",
   "execution_count": 261,
   "metadata": {},
   "outputs": [
    {
     "data": {
      "text/plain": [
       "user\n",
       "ArianaGrande       21810\n",
       "BarackObama         6355\n",
       "Cristiano           2014\n",
       "KimKardashian      15125\n",
       "TheEllenShow       16252\n",
       "Twitter             1834\n",
       "YouTube             9275\n",
       "britneyspears       3154\n",
       "cnnbrk             47489\n",
       "jimmyfallon         8099\n",
       "jtimberlake         2195\n",
       "justinbieber        9210\n",
       "katyperry           6416\n",
       "ladygaga            5448\n",
       "narendramodi       21574\n",
       "realDonaldTrump    36170\n",
       "rihanna             4887\n",
       "selenagomez         2276\n",
       "shakira             4384\n",
       "taylorswift13        288\n",
       "dtype: int64"
      ]
     },
     "execution_count": 261,
     "metadata": {},
     "output_type": "execute_result"
    }
   ],
   "source": [
    "dataset.groupby('user').size()"
   ]
  },
  {
   "cell_type": "code",
   "execution_count": 262,
   "metadata": {},
   "outputs": [
    {
     "data": {
      "text/html": [
       "<div>\n",
       "<style scoped>\n",
       "    .dataframe tbody tr th:only-of-type {\n",
       "        vertical-align: middle;\n",
       "    }\n",
       "\n",
       "    .dataframe tbody tr th {\n",
       "        vertical-align: top;\n",
       "    }\n",
       "\n",
       "    .dataframe thead th {\n",
       "        text-align: right;\n",
       "    }\n",
       "</style>\n",
       "<table border=\"1\" class=\"dataframe\">\n",
       "  <thead>\n",
       "    <tr style=\"text-align: right;\">\n",
       "      <th></th>\n",
       "      <th>tweet_id</th>\n",
       "      <th>user</th>\n",
       "      <th>time_epoch</th>\n",
       "      <th>tweet</th>\n",
       "      <th>n_likes</th>\n",
       "      <th>n_retweets</th>\n",
       "      <th>n_replies</th>\n",
       "      <th>n_emojis</th>\n",
       "      <th>quoted_tweet</th>\n",
       "      <th>hashtags</th>\n",
       "      <th>mentions</th>\n",
       "      <th>quoted_tweet_screen_name</th>\n",
       "      <th>quoted_tweet_name</th>\n",
       "      <th>quoted_tweet_hashtags</th>\n",
       "      <th>quoted_tweet_mentions</th>\n",
       "      <th>quoted_tweet_n_emojis</th>\n",
       "    </tr>\n",
       "  </thead>\n",
       "  <tbody>\n",
       "    <tr>\n",
       "      <th>1</th>\n",
       "      <td>1249733419401183232</td>\n",
       "      <td>KimKardashian</td>\n",
       "      <td>1586794640</td>\n",
       "      <td>JUST RESTOCKED: the @SKIMS Waist Trainer — ava...</td>\n",
       "      <td>3850</td>\n",
       "      <td>166</td>\n",
       "      <td>340</td>\n",
       "      <td>0</td>\n",
       "      <td></td>\n",
       "      <td>[]</td>\n",
       "      <td>[skims]</td>\n",
       "      <td>None</td>\n",
       "      <td>None</td>\n",
       "      <td>[]</td>\n",
       "      <td>[]</td>\n",
       "      <td>0</td>\n",
       "    </tr>\n",
       "    <tr>\n",
       "      <th>7</th>\n",
       "      <td>1249338384847220738</td>\n",
       "      <td>KimKardashian</td>\n",
       "      <td>1586700457</td>\n",
       "      <td>My sweet baby True. Happy 2nd Birthday! I wish...</td>\n",
       "      <td>30039</td>\n",
       "      <td>1075</td>\n",
       "      <td>174</td>\n",
       "      <td>2</td>\n",
       "      <td></td>\n",
       "      <td>[]</td>\n",
       "      <td>[]</td>\n",
       "      <td>None</td>\n",
       "      <td>None</td>\n",
       "      <td>[]</td>\n",
       "      <td>[]</td>\n",
       "      <td>0</td>\n",
       "    </tr>\n",
       "    <tr>\n",
       "      <th>9</th>\n",
       "      <td>1249080285972410368</td>\n",
       "      <td>KimKardashian</td>\n",
       "      <td>1586638921</td>\n",
       "      <td>Does this ever happen to anyone else where you...</td>\n",
       "      <td>23384</td>\n",
       "      <td>797</td>\n",
       "      <td>2060</td>\n",
       "      <td>0</td>\n",
       "      <td></td>\n",
       "      <td>[]</td>\n",
       "      <td>[]</td>\n",
       "      <td>None</td>\n",
       "      <td>None</td>\n",
       "      <td>[]</td>\n",
       "      <td>[]</td>\n",
       "      <td>0</td>\n",
       "    </tr>\n",
       "  </tbody>\n",
       "</table>\n",
       "</div>"
      ],
      "text/plain": [
       "              tweet_id           user  time_epoch  \\\n",
       "1  1249733419401183232  KimKardashian  1586794640   \n",
       "7  1249338384847220738  KimKardashian  1586700457   \n",
       "9  1249080285972410368  KimKardashian  1586638921   \n",
       "\n",
       "                                               tweet  n_likes  n_retweets  \\\n",
       "1  JUST RESTOCKED: the @SKIMS Waist Trainer — ava...     3850         166   \n",
       "7  My sweet baby True. Happy 2nd Birthday! I wish...    30039        1075   \n",
       "9  Does this ever happen to anyone else where you...    23384         797   \n",
       "\n",
       "   n_replies  n_emojis quoted_tweet hashtags mentions  \\\n",
       "1        340         0                    []  [skims]   \n",
       "7        174         2                    []       []   \n",
       "9       2060         0                    []       []   \n",
       "\n",
       "  quoted_tweet_screen_name quoted_tweet_name quoted_tweet_hashtags  \\\n",
       "1                     None              None                    []   \n",
       "7                     None              None                    []   \n",
       "9                     None              None                    []   \n",
       "\n",
       "  quoted_tweet_mentions  quoted_tweet_n_emojis  \n",
       "1                    []                      0  \n",
       "7                    []                      0  \n",
       "9                    []                      0  "
      ]
     },
     "execution_count": 262,
     "metadata": {},
     "output_type": "execute_result"
    }
   ],
   "source": [
    "dataset.head(3)"
   ]
  },
  {
   "cell_type": "code",
   "execution_count": 264,
   "metadata": {},
   "outputs": [],
   "source": [
    "dataset.to_json(coord.data_interim / 'dataset_v1.jsonl', lines=True, orient='records')"
   ]
  },
  {
   "cell_type": "markdown",
   "metadata": {},
   "source": [
    "## 3. Preprocessing demonstraion on a few examples"
   ]
  },
  {
   "cell_type": "code",
   "execution_count": 291,
   "metadata": {},
   "outputs": [],
   "source": [
    "preprocessor = TextPreprocessor()"
   ]
  },
  {
   "cell_type": "code",
   "execution_count": 293,
   "metadata": {},
   "outputs": [
    {
     "data": {
      "text/plain": [
       "array(['JUST RESTOCKED: the @SKIMS Waist Trainer — available now in Clay and Onyx and in sizes XXS - 4X. Shop now at     and enjoy free shipping on domestic orders over $75.',\n",
       "       'My sweet baby True. Happy 2nd Birthday! I wish we could all be there with you to celebrate you today! I love you so much precious girl! Looking through pictures to post made me so happy, this cousin bond is so special and will last forever',\n",
       "       'Does this ever happen to anyone else where your text messages on your iPhone are all blank and looks like you have no conversations going? How do we fix this without turning off and on your phone!',\n",
       "       'One of my favorite bottles we designed!  We picked this shape bottle because each point of the bottle represents each child my mother has had. KKW X KRIS',\n",
       "       'Hey guys!!! If you missed my IG LIVE with my attorney @JessicaJackson at 3PM on her page, you can now watch it on my IGTV    …',\n",
       "       'There’s 2.2 mil people in prisons & jails right now who can’t socially distance or protect themselves from coronavirus. Go to this link to tell your law makers they need to act now so that the prisons and jails don’t become the epicenter of this pandemic',\n",
       "       'Hey Guys! We’re live! Go to my attorney’s Instagram @JessicaJackson to tune in',\n",
       "       \"Hey guys, I'm gonna do a IG LIVE at 3pm with my attorney @JessicaJackson to discuss the Justice Project and the affects the coronavirus is having on our prisons now.\",\n",
       "       'KRIS JENNER!!!!! That’s it!!! LOL \\u2066@KrisJenner\\u2069\\n4.15.20 KKW X KRIS',\n",
       "       'Sorry I didn’t live tweet I swear since we changed to Thursday nights and earlier time the week just creeps up so fast and I lost track of time'],\n",
       "      dtype=object)"
      ]
     },
     "execution_count": 293,
     "metadata": {},
     "output_type": "execute_result"
    }
   ],
   "source": [
    "examples = dataset['tweet'].iloc[:10].values\n",
    "examples"
   ]
  },
  {
   "cell_type": "code",
   "execution_count": 294,
   "metadata": {},
   "outputs": [
    {
     "name": "stdout",
     "output_type": "stream",
     "text": [
      "JUST RESTOCKED: the @SKIMS Waist Trainer — available now in Clay and Onyx and in sizes XXS - 4X. Shop now at     and enjoy free shipping on domestic orders over $75.\n",
      "['restock', 'skims', 'waist', 'trainer', 'clay', 'onyx', 'size', 'xx', 'shop', 'enjoy', 'free', 'shipping', 'domestic', 'order']\n",
      "\n",
      "My sweet baby True. Happy 2nd Birthday! I wish we could all be there with you to celebrate you today! I love you so much precious girl! Looking through pictures to post made me so happy, this cousin bond is so special and will last forever\n",
      "['sweet', 'baby', 'true', 'happy', 'birthday', 'celebrate', 'today', 'love', 'precious', 'girl', 'picture', 'post', 'happy', 'cousin', 'bond', 'special']\n",
      "\n",
      "Does this ever happen to anyone else where your text messages on your iPhone are all blank and looks like you have no conversations going? How do we fix this without turning off and on your phone!\n",
      "['happen', 'text', 'message', 'iphone', 'blank', 'conversation', 'turn', 'phone']\n",
      "\n",
      "One of my favorite bottles we designed!  We picked this shape bottle because each point of the bottle represents each child my mother has had. KKW X KRIS\n",
      "['favorite', 'bottle', 'design', 'picked', 'shape', 'bottle', 'point', 'bottle', 'represent', 'child', 'mother', 'kkw', 'kris']\n",
      "\n",
      "Hey guys!!! If you missed my IG LIVE with my attorney @JessicaJackson at 3PM on her page, you can now watch it on my IGTV    …\n",
      "['hey', 'guy', 'ig', 'live', 'attorney', 'jessicajackson', 'pm', 'watch', 'igtv']\n",
      "\n",
      "There’s 2.2 mil people in prisons & jails right now who can’t socially distance or protect themselves from coronavirus. Go to this link to tell your law makers they need to act now so that the prisons and jails don’t become the epicenter of this pandemic\n",
      "['mil', 'people', 'prison', 'jail', 'socially', 'distance', 'protect', 'coronavirus', 'link', 'law', 'maker', 'prison', 'jail', 'epicenter', 'pandemic']\n",
      "\n",
      "Hey Guys! We’re live! Go to my attorney’s Instagram @JessicaJackson to tune in\n",
      "['hey', 'guy', 'live', 'attorney', 'instagram', 'jessicajackson', 'tune']\n",
      "\n",
      "Hey guys, I'm gonna do a IG LIVE at 3pm with my attorney @JessicaJackson to discuss the Justice Project and the affects the coronavirus is having on our prisons now.\n",
      "['hey', 'guy', 'gonna', 'ig', 'live', 'pm', 'attorney', 'jessicajackson', 'discus', 'justice', 'project', 'affect', 'coronavirus', 'prison']\n",
      "\n",
      "KRIS JENNER!!!!! That’s it!!! LOL ⁦@KrisJenner⁩\n",
      "4.15.20 KKW X KRIS\n",
      "['kris', 'jenner', 'lol', 'krisjenner', 'kkw', 'kris']\n",
      "\n",
      "Sorry I didn’t live tweet I swear since we changed to Thursday nights and earlier time the week just creeps up so fast and I lost track of time\n",
      "['live', 'tweet', 'swear', 'change', 'thursday', 'night', 'earlier', 'time', 'week', 'creep', 'fast', 'lose', 'track', 'time']\n",
      "\n"
     ]
    }
   ],
   "source": [
    "for example in examples:\n",
    "    print(example)\n",
    "    print(preprocessor(example))\n",
    "    print()"
   ]
  },
  {
   "cell_type": "code",
   "execution_count": null,
   "metadata": {},
   "outputs": [],
   "source": []
  }
 ],
 "metadata": {
  "kernelspec": {
   "display_name": "information_retrieval_spbu",
   "language": "python",
   "name": "information_retrieval_spbu"
  },
  "language_info": {
   "codemirror_mode": {
    "name": "ipython",
    "version": 3
   },
   "file_extension": ".py",
   "mimetype": "text/x-python",
   "name": "python",
   "nbconvert_exporter": "python",
   "pygments_lexer": "ipython3",
   "version": "3.6.9"
  }
 },
 "nbformat": 4,
 "nbformat_minor": 4
}
